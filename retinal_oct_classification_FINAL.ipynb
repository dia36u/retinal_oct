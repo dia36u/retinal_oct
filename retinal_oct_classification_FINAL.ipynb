{
  "cells": [
    {
      "cell_type": "markdown",
      "metadata": {
        "id": "IdFojbjNj6VJ"
      },
      "source": [
        "# Detecting Retina Damage From Optical Coherence Tomography (OCT) Images, using Transfer Learning on VGG16 CNN Model\n",
        "## Context\n",
        "Retinal Optical Coherence Tomography (OCT) is an imaging technique used to capture high-resolution cross sections of the retinas of living patients. Approximately 30 million OCT scans are performed each year, and the analysis and interpretation of these images takes up a significant amount of time (Swanson and Fujimoto, 2017).\n",
        "\n",
        "![Figure 1.](https://i.imgur.com/fSTeZMd.png)\n",
        "\n",
        "Figure 1. Representative Optical Coherence Tomography Images and the Workflow Diagram \\[Kermany et. al. 2018\\]\n",
        "\n",
        "(A) (Far left) Choroidal Neo-Vascularization (CNV) with neovascular membrane (white arrowheads) and associated subretinal fluid (arrows). (Middle left) Diabetic Macular Edema (DME) with retinal-thickening-associated intraretinal fluid (arrows). (Middle right) Multiple drusen (arrowheads) present in early AMD. (Far right) Normal retina with preserved foveal contour and absence of any retinal fluid/edema.\n",
        "\n",
        "## Content\n",
        "* The dataset is organized into 3 folders (train, test, val) and contains subfolders for each image category (NORMAL,CNV,DME,DRUSEN). There are 84,495 X-Ray images (JPEG) and 4 categories (NORMAL,CNV,DME,DRUSEN).\n",
        "* Images are labeled as (disease)-(randomized patient ID)-(image number by this patient) and split into 4 directories: CNV, DME, DRUSEN, and NORMAL.\n",
        "\n",
        "* Optical coherence tomography (OCT) images (Spectralis OCT, Heidelberg Engineering, Germany) were selected from retrospective cohorts of adult patients from the Shiley Eye Institute of the University of California San Diego, the California Retinal Research Foundation, Medical Center Ophthalmology Associates, the Shanghai First People’s Hospital, and Beijing Tongren Eye Center between July 1, 2013 and March 1, 2017.\n",
        "\n",
        "## Acknowledgements\n",
        "* Data: https://data.mendeley.com/datasets/rscbjbr9sj/2\n",
        "* Citation: http://www.cell.com/cell/fulltext/S0092-8674(18)30154-5"
      ]
    },
    {
      "cell_type": "markdown",
      "metadata": {
        "id": "xBeaBcUzj6VO"
      },
      "source": [
        "## Installing and Importing Libraries"
      ]
    },
    {
      "cell_type": "code",
      "execution_count": 1,
      "metadata": {
        "colab": {
          "base_uri": "https://localhost:8080/"
        },
        "id": "_eLiARXPj6VP",
        "outputId": "05bbd61f-36a1-45e7-e8b3-b38ccf6aa2e7",
        "scrolled": false
      },
      "outputs": [
        {
          "name": "stdout",
          "output_type": "stream",
          "text": [
            "Requirement already satisfied: keract in /home/u008311/miniconda3/envs/simplon/lib/python3.9/site-packages (4.5.1)\n"
          ]
        }
      ],
      "source": [
        "!pip install keract --trusted-host \"pypi.org\""
      ]
    },
    {
      "cell_type": "code",
      "execution_count": 2,
      "metadata": {
        "_cell_guid": "79c7e3d0-c299-4dcb-8224-4455121ee9b0",
        "_uuid": "d629ff2d2480ee46fbb7e2d37f6b5fab8052498a",
        "id": "kwPBg7gNj6VR",
        "scrolled": false
      },
      "outputs": [
        {
          "name": "stdout",
          "output_type": "stream",
          "text": [
            "env: CUDA_VISIBLE_DEVICES=1\n"
          ]
        }
      ],
      "source": [
        "import os\n",
        "from glob import glob\n",
        "import pandas as pd\n",
        "import numpy as np\n",
        "from numpy import expand_dims\n",
        "import matplotlib.pyplot as plt\n",
        "import matplotlib.image as mpimg\n",
        "import seaborn as sn\n",
        "from skimage.transform import resize\n",
        "from skimage.color import gray2rgb\n",
        "from sklearn.metrics import classification_report, confusion_matrix\n",
        "from IPython.display import SVG\n",
        "import keract\n",
        "import tensorflow as tf\n",
        "from tensorflow import keras\n",
        "from tensorflow.keras import applications, optimizers\n",
        "from tensorflow.keras.models import Model, Sequential, load_model\n",
        "from tensorflow.keras.preprocessing.image import ImageDataGenerator, load_img, img_to_array\n",
        "from tensorflow.keras.layers import Dense, Flatten, Dropout\n",
        "from tensorflow.keras.applications.vgg16 import VGG16, preprocess_input\n",
        "from tensorflow.keras.utils import to_categorical, model_to_dot, plot_model\n",
        "from tensorflow.keras.callbacks import ModelCheckpoint, EarlyStopping, CSVLogger, ReduceLROnPlateau\n",
        "%env CUDA_VISIBLE_DEVICES=1"
      ]
    },
    {
      "cell_type": "code",
      "execution_count": 3,
      "metadata": {},
      "outputs": [
        {
          "name": "stdout",
          "output_type": "stream",
          "text": [
            "1 Physical GPUs, 1 Logical GPUs\n"
          ]
        },
        {
          "name": "stderr",
          "output_type": "stream",
          "text": [
            "2023-02-08 11:27:14.261799: I tensorflow/core/platform/cpu_feature_guard.cc:193] This TensorFlow binary is optimized with oneAPI Deep Neural Network Library (oneDNN) to use the following CPU instructions in performance-critical operations:  AVX2 FMA\n",
            "To enable them in other operations, rebuild TensorFlow with the appropriate compiler flags.\n",
            "2023-02-08 11:27:14.984380: I tensorflow/core/common_runtime/gpu/gpu_device.cc:1532] Created device /job:localhost/replica:0/task:0/device:GPU:0 with 38418 MB memory:  -> device: 0, name: A100-PCIE-40GB, pci bus id: 0000:81:00.0, compute capability: 8.0\n"
          ]
        }
      ],
      "source": [
        "# Ref: https://www.tensorflow.org/guide/gpu\n",
        "gpus = tf.config.experimental.list_physical_devices('GPU')\n",
        "if gpus:\n",
        "  try:\n",
        "    # Currently, memory growth needs to be the same across GPUs\n",
        "    for gpu in gpus:\n",
        "      tf.config.experimental.set_memory_growth(gpu, True)\n",
        "    logical_gpus = tf.config.experimental.list_logical_devices('GPU')\n",
        "    print(len(gpus), \"Physical GPUs,\", len(logical_gpus), \"Logical GPUs\")\n",
        "  except RuntimeError as e:\n",
        "    # Memory growth must be set before GPUs have been initialized\n",
        "    print(e)"
      ]
    },
    {
      "cell_type": "markdown",
      "metadata": {
        "id": "2tdndSE9j6VS"
      },
      "source": [
        "## Importing Dataset and Data Pre-Processing"
      ]
    },
    {
      "cell_type": "markdown",
      "metadata": {
        "id": "jiJFYeM7DfH4"
      },
      "source": [
        "use kaggle datasets download command \n",
        "you must import the kaggle file with your username et API key from your kaggle profile "
      ]
    },
    {
      "cell_type": "code",
      "execution_count": 4,
      "metadata": {
        "colab": {
          "base_uri": "https://localhost:8080/"
        },
        "id": "ZqEiIeJZj8Kt",
        "outputId": "2ba266c4-50bf-4582-dddf-74eaea755743"
      },
      "outputs": [],
      "source": [
        "# !mkdir ~/.kaggle\n",
        "# !cp kaggle.json ~/.kaggle/kaggle.json\n",
        "# ! chmod 600 ~/kaggle/kaggle.json\n",
        "# ! kaggle datasets download paultimothymooney/kermany2018"
      ]
    },
    {
      "cell_type": "code",
      "execution_count": 5,
      "metadata": {
        "colab": {
          "base_uri": "https://localhost:8080/"
        },
        "id": "VqNeLT02l28k",
        "outputId": "9468e94c-f80c-40af-934f-efccf4c0156b"
      },
      "outputs": [],
      "source": [
        "# ! unzip kermany2018.zip"
      ]
    },
    {
      "cell_type": "markdown",
      "metadata": {
        "id": "uQTJiqAxD1Aq"
      },
      "source": [
        "create train and test directory "
      ]
    },
    {
      "cell_type": "code",
      "execution_count": 6,
      "metadata": {
        "id": "1E-3ZqlIj6VT",
        "scrolled": false
      },
      "outputs": [],
      "source": [
        "data_dir = \"content/OCT2017\"\n",
        "train_data_dir= 'content/OCT2017/train/'\n",
        "val_data_dir= 'content/OCT2017/val/'\n",
        "test_data_dir= 'content/OCT2017/test/'\n",
        "img_width, img_height = 150, 150 \n",
        "channels = 3\n",
        "batch_size = 32"
      ]
    },
    {
      "cell_type": "code",
      "execution_count": 7,
      "metadata": {
        "colab": {
          "base_uri": "https://localhost:8080/",
          "height": 497
        },
        "id": "DWH6wRcwj6VU",
        "outputId": "5eade3f8-f536-4333-e5d9-7313640c88c1",
        "scrolled": false
      },
      "outputs": [
        {
          "data": {
            "image/png": "[encoded data removed]",
            "text/plain": [
              "<Figure size 432x288 with 1 Axes>"
            ]
          },
          "metadata": {
            "needs_background": "light"
          },
          "output_type": "display_data"
        }
      ],
      "source": [
        "cnv_images = len(glob(train_data_dir + 'CNV/*.jpeg'))\n",
        "dme_images = len(glob(train_data_dir + 'DME/*.jpeg'))\n",
        "drusen_images = len(glob(train_data_dir + 'DRUSEN/*.jpeg'))\n",
        "normal_images = len(glob(train_data_dir + 'NORMAL/*.jpeg'))\n",
        "data= {'CNV': cnv_images, 'DME': dme_images, 'DRUSEN': drusen_images, 'NORMAL': normal_images}\n",
        "labels = list(data.keys()) \n",
        "count = list(data.values()) \n",
        "\n",
        "plt.rcParams['figure.figsize'] = (8.0, 8.0)\n",
        "plt.bar(labels, count, color=['tab:red', 'tab:green', 'tab:blue', 'tab:orange'])\n",
        "plt.axis('on')\n",
        "plt.xlabel(\"Labels\") \n",
        "plt.ylabel(\"Count\") \n",
        "plt.savefig('labels_vs_counts.png', transparent= False, bbox_inches= 'tight', dpi= 400)\n",
        "plt.show() "
      ]
    },
    {
      "cell_type": "markdown",
      "metadata": {
        "id": "GH5jQNJPj6VV"
      },
      "source": [
        "### Image Histogram (Tonal Distribution)\n",
        "* Histogram of a normal retina image in the train dataset:"
      ]
    },
    {
      "cell_type": "code",
      "execution_count": 8,
      "metadata": {
        "colab": {
          "base_uri": "https://localhost:8080/",
          "height": 334
        },
        "id": "4m7GVZBcj6VV",
        "outputId": "9bed0a9b-46ca-40a0-df32-bb845d0fa0ae",
        "scrolled": false
      },
      "outputs": [
        {
          "data": {
            "image/png": "[encoded data removed]",
            "text/plain": [
              "<Figure size 576x360 with 1 Axes>"
            ]
          },
          "metadata": {
            "needs_background": "light"
          },
          "output_type": "display_data"
        }
      ],
      "source": [
        "image = mpimg.imread(data_dir + '/train/NORMAL/NORMAL-1001666-1.jpeg')\n",
        "color_img= gray2rgb(resize(image, (128, 128)))\n",
        "plt.rcParams['figure.figsize'] = (8.0, 5.0)\n",
        "_ = plt.hist(color_img.ravel(), bins = 256, color = 'orange', )\n",
        "_ = plt.hist(color_img[:, :, 0].ravel(), bins = 256, color = 'red', alpha = 0.5)\n",
        "_ = plt.hist(color_img[:, :, 1].ravel(), bins = 256, color = 'Green', alpha = 0.5)\n",
        "_ = plt.hist(color_img[:, :, 2].ravel(), bins = 256, color = 'Blue', alpha = 0.5)\n",
        "_ = plt.xlabel('Intensity Value')\n",
        "_ = plt.ylabel('Count')\n",
        "_ = plt.legend(['Total', 'Red_Channel', 'Green_Channel', 'Blue_Channel'])\n",
        "plt.savefig('histogram.png', transparent= False, bbox_inches= 'tight', dpi= 400)\n",
        "plt.show()"
      ]
    },
    {
      "cell_type": "markdown",
      "metadata": {
        "id": "R8ePTPhZj6VW"
      },
      "source": [
        "### Sample Images from the Dataset"
      ]
    },
    {
      "cell_type": "code",
      "execution_count": 9,
      "metadata": {
        "colab": {
          "base_uri": "https://localhost:8080/",
          "height": 52
        },
        "id": "2CywX1xLj6VW",
        "outputId": "1f4a98fa-c21a-4340-bb3a-fff430c6111b",
        "scrolled": false
      },
      "outputs": [
        {
          "name": "stdout",
          "output_type": "stream",
          "text": [
            "Normal\n"
          ]
        },
        {
          "data": {
            "text/plain": [
              "<Figure size 720x720 with 0 Axes>"
            ]
          },
          "metadata": {},
          "output_type": "display_data"
        }
      ],
      "source": [
        "print(\"Normal\")\n",
        "multipleImages = glob(data_dir + 'train/NORMAL/**')\n",
        "i = 0\n",
        "plt.rcParams['figure.figsize'] = (10.0, 10.0)\n",
        "plt.subplots_adjust(wspace=0, hspace=0)\n",
        "for im in multipleImages[:25]:\n",
        "    image = mpimg.imread(im)\n",
        "    image_resized = resize(image, (128, 128)) \n",
        "    plt.subplot(5, 5, i+1) #.set_title(l)\n",
        "    plt.imshow(gray2rgb(image_resized)); plt.axis('off')\n",
        "    i += 1\n",
        "plt.savefig('normal_eye.png', transparent= False, bbox_inches= 'tight', dpi= 400)"
      ]
    },
    {
      "cell_type": "code",
      "execution_count": 10,
      "metadata": {
        "colab": {
          "base_uri": "https://localhost:8080/",
          "height": 52
        },
        "id": "4wlCTMzsj6VW",
        "outputId": "f8220f85-5e3e-448d-cfec-12f40c4cd9f2",
        "scrolled": false
      },
      "outputs": [
        {
          "name": "stdout",
          "output_type": "stream",
          "text": [
            "Choroidal Neo-Vascularization (CNV)\n"
          ]
        },
        {
          "data": {
            "text/plain": [
              "<Figure size 720x720 with 0 Axes>"
            ]
          },
          "metadata": {},
          "output_type": "display_data"
        }
      ],
      "source": [
        "print(\"Choroidal Neo-Vascularization (CNV)\")\n",
        "multipleImages = glob(data_dir + 'train/CNV/**')\n",
        "i = 0\n",
        "plt.rcParams['figure.figsize'] = (10.0, 10.0)\n",
        "plt.subplots_adjust(wspace=0, hspace=0)\n",
        "for im in multipleImages[:25]:\n",
        "    image = mpimg.imread(im)\n",
        "    image_resized = resize(image, (128, 128)) \n",
        "    plt.subplot(5, 5, i+1) #.set_title(l)\n",
        "    plt.imshow(gray2rgb(image_resized)); plt.axis('off')\n",
        "    i += 1\n",
        "plt.savefig('cnv_eye.png', transparent= False, bbox_inches= 'tight', dpi= 400)"
      ]
    },
    {
      "cell_type": "code",
      "execution_count": 11,
      "metadata": {
        "colab": {
          "base_uri": "https://localhost:8080/",
          "height": 52
        },
        "id": "tVplJhQoj6VX",
        "outputId": "c76a8063-ba9b-41fd-fa5a-3efbdd920553",
        "scrolled": false
      },
      "outputs": [
        {
          "name": "stdout",
          "output_type": "stream",
          "text": [
            "Diabetic Macular Edema (DME)\n"
          ]
        },
        {
          "data": {
            "text/plain": [
              "<Figure size 720x720 with 0 Axes>"
            ]
          },
          "metadata": {},
          "output_type": "display_data"
        }
      ],
      "source": [
        "print(\"Diabetic Macular Edema (DME)\") \n",
        "multipleImages = glob(data_dir + 'train/DME/**')\n",
        "i = 0\n",
        "plt.rcParams['figure.figsize'] = (10.0, 10.0)\n",
        "plt.subplots_adjust(wspace=0, hspace=0)\n",
        "for im in multipleImages[:25]:\n",
        "    image = mpimg.imread(im)\n",
        "    image_resized = resize(image, (128, 128)) \n",
        "    plt.subplot(5, 5, i+1) #.set_title(l)\n",
        "    plt.imshow(gray2rgb(image_resized)); plt.axis('off')\n",
        "    i += 1\n",
        "plt.savefig('dme_eye.png', transparent= False, bbox_inches= 'tight', dpi= 400)"
      ]
    },
    {
      "cell_type": "code",
      "execution_count": 12,
      "metadata": {
        "colab": {
          "base_uri": "https://localhost:8080/",
          "height": 52
        },
        "id": "tmHHUJEtj6VX",
        "outputId": "022b5b86-7eeb-4b1a-a298-a667183f2c9f",
        "scrolled": false
      },
      "outputs": [
        {
          "name": "stdout",
          "output_type": "stream",
          "text": [
            "Drusen\n"
          ]
        },
        {
          "data": {
            "text/plain": [
              "<Figure size 720x720 with 0 Axes>"
            ]
          },
          "metadata": {},
          "output_type": "display_data"
        }
      ],
      "source": [
        "print(\"Drusen\")\n",
        "multipleImages = glob(data_dir + 'train/DRUSEN/**')\n",
        "i = 0\n",
        "plt.rcParams['figure.figsize'] = (10.0, 10.0)\n",
        "plt.subplots_adjust(wspace=0, hspace=0)\n",
        "for im in multipleImages[:25]:\n",
        "    image = mpimg.imread(im)\n",
        "    image_resized = resize(image, (128, 128)) \n",
        "    plt.subplot(5, 5, i+1) #.set_title(l)\n",
        "    plt.imshow(gray2rgb(image_resized)); plt.axis('off')\n",
        "    i += 1\n",
        "plt.savefig('drusen_eye.png', transparent= False, bbox_inches= 'tight', dpi= 400)"
      ]
    },
    {
      "cell_type": "markdown",
      "metadata": {
        "id": "HHLofnAxj6VX"
      },
      "source": [
        "### Keras Data Generators"
      ]
    },
    {
      "cell_type": "code",
      "execution_count": 13,
      "metadata": {
        "id": "H0EPw85rj6VY",
        "scrolled": false
      },
      "outputs": [],
      "source": [
        "train_datagen = ImageDataGenerator(\n",
        "    rescale= 1./255,\n",
        "    zoom_range= (0.73, 0.9),\n",
        "    horizontal_flip= True,\n",
        "    rotation_range= 10,\n",
        "    width_shift_range= 0.10,\n",
        "    fill_mode= 'constant',\n",
        "    height_shift_range= 0.10,   \n",
        "    brightness_range= (0.55, 0.9),\n",
        ")\n",
        "\n",
        "valid_test_datagen = ImageDataGenerator(\n",
        "    rescale= 1./255, \n",
        ")"
      ]
    },
    {
      "cell_type": "code",
      "execution_count": 14,
      "metadata": {
        "colab": {
          "base_uri": "https://localhost:8080/"
        },
        "id": "73kQ9HVkj6VY",
        "outputId": "80cf2772-20af-4d3f-885b-8088bf78e957",
        "scrolled": false
      },
      "outputs": [
        {
          "name": "stdout",
          "output_type": "stream",
          "text": [
            "Found 83484 images belonging to 4 classes.\n",
            "Found 32 images belonging to 4 classes.\n",
            "Found 968 images belonging to 4 classes.\n"
          ]
        }
      ],
      "source": [
        "train_generator = train_datagen.flow_from_directory(  \n",
        "    train_data_dir,  \n",
        "    target_size= (img_width, img_height), \n",
        "    color_mode= 'rgb',\n",
        "    batch_size= batch_size,  \n",
        "    class_mode= 'categorical',\n",
        "    shuffle= True, \n",
        "    seed= 1337\n",
        ") \n",
        "\n",
        "valid_generator = valid_test_datagen.flow_from_directory(\n",
        "    val_data_dir,\n",
        "    target_size= (img_width, img_height),\n",
        "    color_mode= 'rgb',\n",
        "    batch_size= batch_size,  \n",
        "    class_mode= 'categorical',\n",
        "    shuffle= True, \n",
        "    seed= 1337\n",
        ")\n",
        "\n",
        "test_generator = valid_test_datagen.flow_from_directory(  \n",
        "    test_data_dir,  \n",
        "    target_size= (img_width, img_height), \n",
        "    color_mode= 'rgb',\n",
        "    batch_size= batch_size,        \n",
        "    class_mode= 'categorical',\n",
        "    shuffle= False, \n",
        ")"
      ]
    },
    {
      "cell_type": "code",
      "execution_count": 15,
      "metadata": {
        "id": "YsZD84kXj6VY",
        "scrolled": false
      },
      "outputs": [],
      "source": [
        "num_classes = len(train_generator.class_indices)  \n",
        "train_labels = train_generator.classes \n",
        "train_labels = to_categorical(train_labels, num_classes=num_classes)\n",
        "valid_labels = valid_generator.classes \n",
        "valid_labels = to_categorical(valid_labels, num_classes=num_classes)\n",
        "nb_train_samples = len(train_generator.filenames)  \n",
        "nb_valid_samples = len(valid_generator.filenames)\n",
        "nb_test_samples = len(test_generator.filenames)"
      ]
    },
    {
      "cell_type": "markdown",
      "metadata": {
        "id": "UUOcv2u8j6VY"
      },
      "source": [
        "# Model\n",
        "* VGG16 CNN architecture is used for calssification.\n",
        "* Pretrained on the 'ImageNet' dataset."
      ]
    },
    {
      "cell_type": "code",
      "execution_count": 16,
      "metadata": {
        "colab": {
          "base_uri": "https://localhost:8080/"
        },
        "id": "SKzrizgVj6VY",
        "outputId": "141dc843-3366-40ee-a70a-48286d4aadbe",
        "scrolled": false
      },
      "outputs": [
        {
          "name": "stdout",
          "output_type": "stream",
          "text": [
            "Model: \"vgg16\"\n",
            "_________________________________________________________________\n",
            " Layer (type)                Output Shape              Param #   \n",
            "=================================================================\n",
            " input_1 (InputLayer)        [(None, 150, 150, 3)]     0         \n",
            "                                                                 \n",
            " block1_conv1 (Conv2D)       (None, 150, 150, 64)      1792      \n",
            "                                                                 \n",
            " block1_conv2 (Conv2D)       (None, 150, 150, 64)      36928     \n",
            "                                                                 \n",
            " block1_pool (MaxPooling2D)  (None, 75, 75, 64)        0         \n",
            "                                                                 \n",
            " block2_conv1 (Conv2D)       (None, 75, 75, 128)       73856     \n",
            "                                                                 \n",
            " block2_conv2 (Conv2D)       (None, 75, 75, 128)       147584    \n",
            "                                                                 \n",
            " block2_pool (MaxPooling2D)  (None, 37, 37, 128)       0         \n",
            "                                                                 \n",
            " block3_conv1 (Conv2D)       (None, 37, 37, 256)       295168    \n",
            "                                                                 \n",
            " block3_conv2 (Conv2D)       (None, 37, 37, 256)       590080    \n",
            "                                                                 \n",
            " block3_conv3 (Conv2D)       (None, 37, 37, 256)       590080    \n",
            "                                                                 \n",
            " block3_pool (MaxPooling2D)  (None, 18, 18, 256)       0         \n",
            "                                                                 \n",
            " block4_conv1 (Conv2D)       (None, 18, 18, 512)       1180160   \n",
            "                                                                 \n",
            " block4_conv2 (Conv2D)       (None, 18, 18, 512)       2359808   \n",
            "                                                                 \n",
            " block4_conv3 (Conv2D)       (None, 18, 18, 512)       2359808   \n",
            "                                                                 \n",
            " block4_pool (MaxPooling2D)  (None, 9, 9, 512)         0         \n",
            "                                                                 \n",
            " block5_conv1 (Conv2D)       (None, 9, 9, 512)         2359808   \n",
            "                                                                 \n",
            " block5_conv2 (Conv2D)       (None, 9, 9, 512)         2359808   \n",
            "                                                                 \n",
            " block5_conv3 (Conv2D)       (None, 9, 9, 512)         2359808   \n",
            "                                                                 \n",
            " block5_pool (MaxPooling2D)  (None, 4, 4, 512)         0         \n",
            "                                                                 \n",
            "=================================================================\n",
            "Total params: 14,714,688\n",
            "Trainable params: 14,714,688\n",
            "Non-trainable params: 0\n",
            "_________________________________________________________________\n"
          ]
        }
      ],
      "source": [
        "vgg16 = VGG16(include_top= False, input_shape= (img_width, img_height, channels), weights= 'imagenet')\n",
        "vgg16.summary()"
      ]
    },
    {
      "cell_type": "code",
      "execution_count": 17,
      "metadata": {
        "colab": {
          "base_uri": "https://localhost:8080/"
        },
        "id": "lblkInHHj6VZ",
        "outputId": "e99f2f45-f6a4-4d62-fa52-d37123117a02",
        "scrolled": false
      },
      "outputs": [
        {
          "name": "stdout",
          "output_type": "stream",
          "text": [
            "Model: \"sequential\"\n",
            "_________________________________________________________________\n",
            " Layer (type)                Output Shape              Param #   \n",
            "=================================================================\n",
            " block1_conv1 (Conv2D)       (None, 150, 150, 64)      1792      \n",
            "                                                                 \n",
            " block1_conv2 (Conv2D)       (None, 150, 150, 64)      36928     \n",
            "                                                                 \n",
            " block1_pool (MaxPooling2D)  (None, 75, 75, 64)        0         \n",
            "                                                                 \n",
            " block2_conv1 (Conv2D)       (None, 75, 75, 128)       73856     \n",
            "                                                                 \n",
            " block2_conv2 (Conv2D)       (None, 75, 75, 128)       147584    \n",
            "                                                                 \n",
            " block2_pool (MaxPooling2D)  (None, 37, 37, 128)       0         \n",
            "                                                                 \n",
            " block3_conv1 (Conv2D)       (None, 37, 37, 256)       295168    \n",
            "                                                                 \n",
            " block3_conv2 (Conv2D)       (None, 37, 37, 256)       590080    \n",
            "                                                                 \n",
            " block3_conv3 (Conv2D)       (None, 37, 37, 256)       590080    \n",
            "                                                                 \n",
            " block3_pool (MaxPooling2D)  (None, 18, 18, 256)       0         \n",
            "                                                                 \n",
            " block4_conv1 (Conv2D)       (None, 18, 18, 512)       1180160   \n",
            "                                                                 \n",
            " block4_conv2 (Conv2D)       (None, 18, 18, 512)       2359808   \n",
            "                                                                 \n",
            " block4_conv3 (Conv2D)       (None, 18, 18, 512)       2359808   \n",
            "                                                                 \n",
            " block4_pool (MaxPooling2D)  (None, 9, 9, 512)         0         \n",
            "                                                                 \n",
            " block5_conv1 (Conv2D)       (None, 9, 9, 512)         2359808   \n",
            "                                                                 \n",
            " block5_conv2 (Conv2D)       (None, 9, 9, 512)         2359808   \n",
            "                                                                 \n",
            " block5_conv3 (Conv2D)       (None, 9, 9, 512)         2359808   \n",
            "                                                                 \n",
            " block5_pool (MaxPooling2D)  (None, 4, 4, 512)         0         \n",
            "                                                                 \n",
            " flatten (Flatten)           (None, 8192)              0         \n",
            "                                                                 \n",
            " dropout (Dropout)           (None, 8192)              0         \n",
            "                                                                 \n",
            " dense (Dense)               (None, 4)                 32772     \n",
            "                                                                 \n",
            "=================================================================\n",
            "Total params: 14,747,460\n",
            "Trainable params: 32,772\n",
            "Non-trainable params: 14,714,688\n",
            "_________________________________________________________________\n"
          ]
        }
      ],
      "source": [
        "model = Sequential()\n",
        "\n",
        "for layer in vgg16.layers:\n",
        "    model.add(layer)\n",
        "\n",
        "for layer in model.layers:\n",
        "    layer.trainable= False\n",
        "\n",
        "model.add(Flatten(input_shape= (4, 4, 512)))\n",
        "model.add(Dropout(0.2))\n",
        "model.add(Dense(4,activation='softmax'))\n",
        "\n",
        "model.summary()"
      ]
    },
    {
      "cell_type": "markdown",
      "metadata": {
        "id": "iiHvHOrdj6VZ"
      },
      "source": [
        "## Baseline Model Training"
      ]
    },
    {
      "cell_type": "code",
      "execution_count": 18,
      "metadata": {
        "colab": {
          "base_uri": "https://localhost:8080/"
        },
        "id": "oA7oUUXEj6VZ",
        "outputId": "3f2e3269-c0b7-4c00-c56d-f109f8e42fc0",
        "scrolled": false
      },
      "outputs": [],
      "source": [
        "model.compile(optimizer= keras.optimizers.Adam(learning_rate= 0.0001), loss= 'categorical_crossentropy', metrics= ['accuracy'])"
      ]
    },
    {
      "cell_type": "code",
      "execution_count": 19,
      "metadata": {
        "colab": {
          "base_uri": "https://localhost:8080/"
        },
        "id": "hasHQMV2j6VZ",
        "outputId": "17791ec2-936e-4e34-9a6b-9512f4d4899f"
      },
      "outputs": [
        {
          "name": "stdout",
          "output_type": "stream",
          "text": [
            "Epoch 1/20\n"
          ]
        },
        {
          "name": "stderr",
          "output_type": "stream",
          "text": [
            "2023-02-08 11:27:28.943515: I tensorflow/stream_executor/cuda/cuda_dnn.cc:384] Loaded cuDNN version 8401\n",
            "2023-02-08 11:27:29.926843: I tensorflow/core/platform/default/subprocess.cc:304] Start cannot spawn child process: No such file or directory\n"
          ]
        },
        {
          "name": "stdout",
          "output_type": "stream",
          "text": [
            "   9/2609 [..............................] - ETA: 58s - loss: 1.2466 - accuracy: 0.4201 "
          ]
        },
        {
          "name": "stderr",
          "output_type": "stream",
          "text": [
            "2023-02-08 11:27:30.480127: I tensorflow/stream_executor/cuda/cuda_blas.cc:1786] TensorFloat-32 will be used for the matrix multiplication. This will only be logged once.\n"
          ]
        },
        {
          "name": "stdout",
          "output_type": "stream",
          "text": [
            "2609/2609 [==============================] - 83s 30ms/step - loss: 0.6682 - accuracy: 0.7584 - val_loss: 0.5018 - val_accuracy: 0.7500\n",
            "Epoch 2/20\n",
            "2609/2609 [==============================] - 77s 29ms/step - loss: 0.5101 - accuracy: 0.8178 - val_loss: 0.3794 - val_accuracy: 0.8750\n",
            "Epoch 3/20\n",
            "2609/2609 [==============================] - 77s 29ms/step - loss: 0.4742 - accuracy: 0.8291 - val_loss: 0.3301 - val_accuracy: 0.8750\n",
            "Epoch 4/20\n",
            "2609/2609 [==============================] - 79s 30ms/step - loss: 0.4561 - accuracy: 0.8347 - val_loss: 0.3451 - val_accuracy: 0.8750\n",
            "Epoch 5/20\n",
            "2609/2609 [==============================] - 76s 29ms/step - loss: 0.4449 - accuracy: 0.8403 - val_loss: 0.3638 - val_accuracy: 0.9375\n",
            "Epoch 6/20\n",
            "2609/2609 [==============================] - 77s 29ms/step - loss: 0.4346 - accuracy: 0.8437 - val_loss: 0.3527 - val_accuracy: 0.9062\n",
            "Epoch 7/20\n",
            "2609/2609 [==============================] - 80s 30ms/step - loss: 0.4287 - accuracy: 0.8453 - val_loss: 0.3617 - val_accuracy: 0.9062\n",
            "Epoch 8/20\n",
            "2609/2609 [==============================] - 78s 29ms/step - loss: 0.4200 - accuracy: 0.8492 - val_loss: 0.3192 - val_accuracy: 0.9062\n",
            "Epoch 9/20\n",
            "2609/2609 [==============================] - 78s 30ms/step - loss: 0.4189 - accuracy: 0.8494 - val_loss: 0.3403 - val_accuracy: 0.8750\n",
            "Epoch 10/20\n",
            "2609/2609 [==============================] - 79s 30ms/step - loss: 0.4155 - accuracy: 0.8509 - val_loss: 0.3692 - val_accuracy: 0.7812\n",
            "Epoch 11/20\n",
            "2609/2609 [==============================] - 73s 28ms/step - loss: 0.4123 - accuracy: 0.8521 - val_loss: 0.3025 - val_accuracy: 0.9062\n",
            "Epoch 12/20\n",
            "2609/2609 [==============================] - 85s 32ms/step - loss: 0.4095 - accuracy: 0.8528 - val_loss: 0.4042 - val_accuracy: 0.8438\n",
            "Epoch 13/20\n",
            "2609/2609 [==============================] - 85s 32ms/step - loss: 0.4081 - accuracy: 0.8527 - val_loss: 0.3474 - val_accuracy: 0.8750\n",
            "Epoch 14/20\n",
            "2609/2609 [==============================] - 86s 32ms/step - loss: 0.4064 - accuracy: 0.8530 - val_loss: 0.3152 - val_accuracy: 0.9062\n",
            "Epoch 15/20\n",
            "2609/2609 [==============================] - 74s 28ms/step - loss: 0.4027 - accuracy: 0.8545 - val_loss: 0.3760 - val_accuracy: 0.7812\n",
            "Epoch 15: early stopping\n"
          ]
        }
      ],
      "source": [
        "numepochs = 20\n",
        "batch_size = 128\n",
        "checkpoint_filepath = '/tmp/checkpoint'\n",
        "checkpoint = ModelCheckpoint(\n",
        "    filepath=checkpoint_filepath,\n",
        "    save_weights_only=True,\n",
        "    monitor='val_accuracy',\n",
        "    mode='max',\n",
        "    save_best_only=True)\n",
        "earlystop = EarlyStopping(monitor='val_accuracy', patience=10, verbose=1)\n",
        "callbacks_list = [earlystop,checkpoint]\n",
        "history = model.fit(train_generator, use_multiprocessing=True, workers=8, \n",
        "                        epochs=numepochs, batch_size=batch_size, \n",
        "                        validation_data=valid_generator, \n",
        "                        verbose=1,\n",
        "                        callbacks = [callbacks_list])"
      ]
    },
    {
      "cell_type": "markdown",
      "metadata": {
        "id": "8jHdPPPtxJc1"
      },
      "source": [
        "Evaluations on Test Dataset"
      ]
    },
    {
      "cell_type": "code",
      "execution_count": 20,
      "metadata": {
        "colab": {
          "base_uri": "https://localhost:8080/"
        },
        "id": "c4EBzCSWj6Va",
        "outputId": "d5baf246-747d-4dc4-ea9c-a5315812e85f",
        "scrolled": true
      },
      "outputs": [
        {
          "name": "stdout",
          "output_type": "stream",
          "text": [
            "31/31 [==============================] - 2s 74ms/step - loss: 0.3580 - accuracy: 0.8564\n",
            "Test Loss:  0.35802242159843445\n",
            "Test Accuracy:  0.8564049601554871\n"
          ]
        }
      ],
      "source": [
        "(eval_loss, eval_accuracy) = model.evaluate(test_generator, batch_size= batch_size, verbose= 1)\n",
        "print('Test Loss: ', eval_loss)\n",
        "print('Test Accuracy: ', eval_accuracy)"
      ]
    },
    {
      "cell_type": "code",
      "execution_count": 21,
      "metadata": {
        "colab": {
          "base_uri": "https://localhost:8080/",
          "height": 613
        },
        "id": "PLrNe_BLw209",
        "outputId": "b4f45ee7-8554-4eeb-afe1-9db456c2ddbc"
      },
      "outputs": [
        {
          "data": {
            "image/png": "[encoded data removed]",
            "text/plain": [
              "<Figure size 720x720 with 1 Axes>"
            ]
          },
          "metadata": {
            "needs_background": "light"
          },
          "output_type": "display_data"
        },
        {
          "data": {
            "image/png": "[encoded data removed]",
            "text/plain": [
              "<Figure size 432x288 with 1 Axes>"
            ]
          },
          "metadata": {
            "needs_background": "light"
          },
          "output_type": "display_data"
        }
      ],
      "source": [
        "plt.subplot()\n",
        "plt.rcParams['figure.figsize'] = (6.0, 4.0)\n",
        "plt.title('Baseline Model Accuracy')\n",
        "plt.plot(history.history['accuracy'])\n",
        "plt.plot(history.history['val_accuracy'])\n",
        "plt.ylabel('Accuracy')\n",
        "plt.xlabel('Epochs')\n",
        "plt.legend(['Training Accuracy','Validation Accuracy'])\n",
        "plt.savefig('baseline_acc_epoch.png', transparent= False, bbox_inches= 'tight', dpi= 400)\n",
        "plt.show()\n",
        "\n",
        "plt.subplot()\n",
        "plt.title('Baseline Model Loss')\n",
        "plt.plot(history.history['loss'])\n",
        "plt.plot(history.history['val_loss'])\n",
        "plt.ylabel('Loss')\n",
        "plt.xlabel('Epochs')\n",
        "plt.legend(['Training Loss','Validation Loss'])\n",
        "plt.savefig('baseline_loss_epoch.png', transparent= False, bbox_inches= 'tight', dpi= 400)\n",
        "plt.show()"
      ]
    },
    {
      "cell_type": "code",
      "execution_count": 22,
      "metadata": {
        "colab": {
          "base_uri": "https://localhost:8080/",
          "height": 750
        },
        "id": "XEyYvvPCxFwa",
        "outputId": "9fa8bc42-2d1c-409b-c9c8-4eeddbb1d23a"
      },
      "outputs": [
        {
          "name": "stdout",
          "output_type": "stream",
          "text": [
            "31/31 [==============================] - 3s 87ms/step\n"
          ]
        },
        {
          "data": {
            "image/png": "[encoded data removed]",
            "text/plain": [
              "<Figure size 720x576 with 2 Axes>"
            ]
          },
          "metadata": {
            "needs_background": "light"
          },
          "output_type": "display_data"
        },
        {
          "name": "stdout",
          "output_type": "stream",
          "text": [
            "Classification Report\n",
            "\n",
            "              precision    recall  f1-score   support\n",
            "\n",
            "         CNV       0.74      0.99      0.85       242\n",
            "         DME       0.99      0.82      0.89       242\n",
            "      DRUSEN       0.99      0.62      0.76       242\n",
            "      NORMAL       0.82      1.00      0.90       242\n",
            "\n",
            "    accuracy                           0.86       968\n",
            "   macro avg       0.89      0.86      0.85       968\n",
            "weighted avg       0.89      0.86      0.85       968\n",
            "\n"
          ]
        }
      ],
      "source": [
        "Y_pred = model.predict(test_generator, nb_test_samples // batch_size+1)\n",
        "y_pred = np.argmax(Y_pred, axis=1)\n",
        "cm = confusion_matrix(test_generator.classes, y_pred)\n",
        "df_cm = pd.DataFrame(cm, list(test_generator.class_indices.keys()), list(test_generator.class_indices.keys()))\n",
        "fig, ax = plt.subplots(figsize=(10,8))\n",
        "sn.set(font_scale=1.4) # for label size\n",
        "sn.heatmap(df_cm, annot=True, annot_kws={\"size\": 16}, cmap=plt.cm.Blues)\n",
        "plt.title('Confusion Matrix\\n')\n",
        "plt.savefig('confusion_matrix.png', transparent= False, bbox_inches= 'tight', dpi= 400)\n",
        "plt.show()\n",
        "\n",
        "print('Classification Report\\n')\n",
        "target_names = list(test_generator.class_indices.keys())\n",
        "print(classification_report(test_generator.classes, y_pred, target_names=target_names))"
      ]
    },
    {
      "cell_type": "markdown",
      "metadata": {
        "id": "e6UmPPNNj6Va"
      },
      "source": [
        "Save the model"
      ]
    },
    {
      "cell_type": "code",
      "execution_count": 23,
      "metadata": {
        "colab": {
          "base_uri": "https://localhost:8080/"
        },
        "id": "PmcQoAD8j6Va",
        "outputId": "3d6896f6-c675-469b-c6b5-7cc1533d2974"
      },
      "outputs": [
        {
          "name": "stdout",
          "output_type": "stream",
          "text": [
            "Saved model to disk\n"
          ]
        }
      ],
      "source": [
        "# save model and architecture to single file\n",
        "model.save(\"retinal-oct_10epochs_GPUTraining32Workers_Opti_Ftrl.h5\")\n",
        "print(\"Saved model to disk\")"
      ]
    },
    {
      "cell_type": "markdown",
      "metadata": {
        "id": "oaz-a9a_GCB8"
      },
      "source": [
        "Prediction test"
      ]
    },
    {
      "cell_type": "code",
      "execution_count": 24,
      "metadata": {
        "colab": {
          "base_uri": "https://localhost:8080/"
        },
        "id": "EYKm6c3MAIX7",
        "outputId": "4f05792f-50fc-4fc3-b9f6-e464afaa67ef"
      },
      "outputs": [
        {
          "name": "stdout",
          "output_type": "stream",
          "text": [
            "1/1 [==============================] - 0s 380ms/step\n",
            "0\n",
            "CNV\n"
          ]
        }
      ],
      "source": [
        "from PIL import Image\n",
        "import io\n",
        "from tensorflow.keras.preprocessing import image\n",
        "model = tf.keras.models.load_model('retinal-oct_10epochs_GPUTraining32Workers_Opti_Ftrl.h5')\n",
        "model.compile(optimizer = 'adam', loss = 'categorical_crossentropy', metrics = ['accuracy'])\n",
        "\n",
        "\n",
        "test_image = image.load_img(\"content/OCT2017/test/CNV/CNV-1016042-1.jpeg\", target_size = (150, 150)) \n",
        "test_image = image.img_to_array(test_image)\n",
        "test_image = np.expand_dims(test_image, axis = 0)\n",
        "\n",
        "#predict the result\n",
        "result = np.argmax(model.predict(test_image))\n",
        "print(result)\n",
        "print(list(train_generator.class_indices.keys())[list(train_generator.class_indices.values()).index(result)])"
      ]
    }
  ],
  "metadata": {
    "accelerator": "GPU",
    "colab": {
      "provenance": []
    },
    "gpuClass": "standard",
    "kernelspec": {
      "display_name": "simplon",
      "language": "python",
      "name": "python3"
    },
    "language_info": {
      "codemirror_mode": {
        "name": "ipython",
        "version": 3
      },
      "file_extension": ".py",
      "mimetype": "text/x-python",
      "name": "python",
      "nbconvert_exporter": "python",
      "pygments_lexer": "ipython3",
      "version": "3.9.7"
    },
    "vscode": {
      "interpreter": {
        "hash": "90f4671c1fa331aaa62daa6d0abfc284e2259b3e40a44abf2ef3d39b6c5ce0f3"
      }
    }
  },
  "nbformat": 4,
  "nbformat_minor": 0
}
